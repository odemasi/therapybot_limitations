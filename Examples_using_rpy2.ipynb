{
 "cells": [
  {
   "cell_type": "code",
   "execution_count": null,
   "id": "chronic-hamburg",
   "metadata": {},
   "outputs": [],
   "source": [
    "import pandas as pd\n",
    "import numpy as np\n",
    "\n",
    "import rpy2.robjects as ro\n",
    "from rpy2.robjects import pandas2ri\n",
    "from rpy2.robjects.conversion import localconverter\n",
    "from rpy2.robjects.packages import importr\n",
    "base = importr('base')\n",
    "utils = importr('utils')\n",
    "\n",
    "lme4 = importr('lme4')"
   ]
  },
  {
   "cell_type": "markdown",
   "id": "israeli-median",
   "metadata": {},
   "source": [
    "# Example of toy rpy2 dataframe usage"
   ]
  },
  {
   "cell_type": "code",
   "execution_count": null,
   "id": "skilled-placement",
   "metadata": {},
   "outputs": [],
   "source": [
    "# Example of making R df\n",
    "r_df = ro.DataFrame({'int_values': ro.IntVector([1,2,3]),\n",
    "                     'str_values': ro.StrVector(['abc', 'def', 'ghi'])})\n",
    "\n",
    "# Example automatically converting pd dataframe into R and calling glmer from python\n",
    "# df = pd.DataFrame(np.random.rand(5,4), columns=['a','b','c','d'])\n",
    "# with localconverter(ro.default_converter + pandas2ri.converter):\n",
    "#     lme4.glmer('a ~ b + c + (1 | d)', data=df, family='binomial')\n"
   ]
  },
  {
   "cell_type": "markdown",
   "id": "everyday-christopher",
   "metadata": {},
   "source": [
    "# Example from UCLA stats\n",
    "https://stats.idre.ucla.edu/r/dae/mixed-effects-logistic-regression/\n",
    "\n",
    "\n",
    "Another example of glmer:\n",
    "https://cran.r-project.org/web/packages/ggeffects/vignettes/practical_logisticmixedmodel.html"
   ]
  },
  {
   "cell_type": "code",
   "execution_count": null,
   "id": "median-letter",
   "metadata": {},
   "outputs": [],
   "source": [
    "rdf = ro.r('hdp <- read.csv(\"https://stats.idre.ucla.edu/stat/data/hdp.csv\")')\n",
    "ro.r['hdp']"
   ]
  },
  {
   "cell_type": "code",
   "execution_count": null,
   "id": "unavailable-begin",
   "metadata": {},
   "outputs": [],
   "source": [
    "ro.r('''hdp <- within(hdp, {\n",
    "  Married <- factor(Married, levels = 0:1, labels = c(\"no\", \"yes\"))\n",
    "  DID <- factor(DID)\n",
    "  HID <- factor(HID)\n",
    "  CancerStage <- factor(CancerStage)\n",
    "})''')"
   ]
  },
  {
   "cell_type": "code",
   "execution_count": null,
   "id": "sorted-lawrence",
   "metadata": {},
   "outputs": [],
   "source": [
    "# ro.r('''m <- glmer(remission ~ IL6 + CRP + CancerStage + LengthofStay + Experience +\n",
    "#     (1 | DID), data = hdp, family = binomial, control = glmerControl(optimizer = \"bobyqa\"),\n",
    "#     nAGQ = 10)''')\n",
    "\n",
    "ro.r('''m <- glmer(remission ~ IL6 + CRP + CancerStage + LengthofStay + Experience +\n",
    "    (1 | DID), data = hdp, family = binomial, \n",
    "    nAGQ = 10)''')\n",
    "\n",
    "# print summary formatted\n",
    "print(ro.r('summary(m)'))\n",
    "\n",
    "# Alternative way to print same output: \n",
    "with localconverter(ro.default_converter + pandas2ri.converter):\n",
    "    m_from_r = ro.conversion.rpy2py(ro.r['m'])\n",
    "print(base.summary(m_from_r))"
   ]
  },
  {
   "cell_type": "code",
   "execution_count": null,
   "id": "backed-crowd",
   "metadata": {},
   "outputs": [],
   "source": [
    "# call glmer from python on converted data\n",
    "\n",
    "with localconverter(ro.default_converter + pandas2ri.converter):\n",
    "    pd_from_r_df = ro.conversion.rpy2py(ro.r['hdp'])\n",
    "    \n",
    "    \n",
    "with localconverter(ro.default_converter + pandas2ri.converter):\n",
    "    res = lme4.glmer('''remission ~ IL6 + CRP + CancerStage + LengthofStay + Experience +\n",
    "    (1 | DID)''', \n",
    "               data=pd_from_r_df, \n",
    "               family='binomial', \n",
    "#                control='glmerControl(optimizer = \"bobyqa\")',\n",
    "               nAGQ = 10)\n",
    "    \n",
    "# Prints the output, but includes printing all the data (because it's not known by a df name in R?)\n",
    "print(base.summary(res))"
   ]
  },
  {
   "cell_type": "code",
   "execution_count": null,
   "id": "personal-concord",
   "metadata": {},
   "outputs": [],
   "source": []
  },
  {
   "cell_type": "code",
   "execution_count": null,
   "id": "detailed-paraguay",
   "metadata": {},
   "outputs": [],
   "source": []
  },
  {
   "cell_type": "code",
   "execution_count": null,
   "id": "floppy-acoustic",
   "metadata": {},
   "outputs": [],
   "source": []
  },
  {
   "cell_type": "code",
   "execution_count": null,
   "id": "isolated-behavior",
   "metadata": {},
   "outputs": [],
   "source": []
  },
  {
   "cell_type": "code",
   "execution_count": null,
   "id": "accessible-excuse",
   "metadata": {},
   "outputs": [],
   "source": []
  },
  {
   "cell_type": "code",
   "execution_count": null,
   "id": "proved-retreat",
   "metadata": {},
   "outputs": [],
   "source": []
  }
 ],
 "metadata": {
  "kernelspec": {
   "display_name": "Python 3",
   "language": "python",
   "name": "python3"
  },
  "language_info": {
   "codemirror_mode": {
    "name": "ipython",
    "version": 3
   },
   "file_extension": ".py",
   "mimetype": "text/x-python",
   "name": "python",
   "nbconvert_exporter": "python",
   "pygments_lexer": "ipython3",
   "version": "3.7.10"
  }
 },
 "nbformat": 4,
 "nbformat_minor": 5
}
