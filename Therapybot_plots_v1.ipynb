{
 "cells": [
  {
   "cell_type": "code",
   "execution_count": 31,
   "id": "internal-silver",
   "metadata": {},
   "outputs": [],
   "source": [
    "import numpy as np\n",
    "import pandas as pd\n",
    "import sqlite3\n",
    "import datetime\n",
    "from matplotlib import pyplot as plt\n",
    "\n",
    "from spacy.lang.en import English\n",
    "nlp = English()\n",
    "# Create a Tokenizer with the default settings for English\n",
    "# including punctuation rules and exceptions\n",
    "tokenizer = nlp.tokenizer\n",
    "\n",
    "# num_tok = len(tokenizer(my_string))"
   ]
  },
  {
   "cell_type": "code",
   "execution_count": 3,
   "id": "based-tender",
   "metadata": {},
   "outputs": [],
   "source": [
    "suff = '5feb2021'\n",
    "dbname = 'data/session_info_feb5.db'\n",
    "\n",
    "workbookname = 'data/sona_convos_annotated_%s.xlsx' % suff\n",
    "surveyfilename = 'data/Questions_baseline_chatbot_February 5, 2021_16.06.csv'"
   ]
  },
  {
   "cell_type": "code",
   "execution_count": 4,
   "id": "pacific-socket",
   "metadata": {},
   "outputs": [],
   "source": [
    "cur = sqlite3.connect(dbname).cursor()"
   ]
  },
  {
   "cell_type": "code",
   "execution_count": 107,
   "id": "raising-shark",
   "metadata": {},
   "outputs": [
    {
     "data": {
      "text/html": [
       "<div>\n",
       "<style scoped>\n",
       "    .dataframe tbody tr th:only-of-type {\n",
       "        vertical-align: middle;\n",
       "    }\n",
       "\n",
       "    .dataframe tbody tr th {\n",
       "        vertical-align: top;\n",
       "    }\n",
       "\n",
       "    .dataframe thead th {\n",
       "        text-align: right;\n",
       "    }\n",
       "</style>\n",
       "<table border=\"1\" class=\"dataframe\">\n",
       "  <thead>\n",
       "    <tr style=\"text-align: right;\">\n",
       "      <th></th>\n",
       "      <th>StartDate</th>\n",
       "      <th>EndDate</th>\n",
       "      <th>Status</th>\n",
       "      <th>Progress</th>\n",
       "      <th>Duration (in seconds)</th>\n",
       "      <th>Finished</th>\n",
       "      <th>RecordedDate</th>\n",
       "      <th>ResponseId</th>\n",
       "      <th>DistributionChannel</th>\n",
       "      <th>UserLanguage</th>\n",
       "      <th>...</th>\n",
       "      <th>Q255_2</th>\n",
       "      <th>Q255_3</th>\n",
       "      <th>Q255_4</th>\n",
       "      <th>Q255_5</th>\n",
       "      <th>Q255_6</th>\n",
       "      <th>Q58</th>\n",
       "      <th>Q57</th>\n",
       "      <th>SC0</th>\n",
       "      <th>SC2</th>\n",
       "      <th>id</th>\n",
       "    </tr>\n",
       "  </thead>\n",
       "  <tbody>\n",
       "    <tr>\n",
       "      <th>0</th>\n",
       "      <td>Start Date</td>\n",
       "      <td>End Date</td>\n",
       "      <td>Response Type</td>\n",
       "      <td>Progress</td>\n",
       "      <td>Duration (in seconds)</td>\n",
       "      <td>Finished</td>\n",
       "      <td>Recorded Date</td>\n",
       "      <td>Response ID</td>\n",
       "      <td>Distribution Channel</td>\n",
       "      <td>User Language</td>\n",
       "      <td>...</td>\n",
       "      <td>Please indicate the degree to which you agree ...</td>\n",
       "      <td>Please indicate the degree to which you agree ...</td>\n",
       "      <td>Please indicate the degree to which you agree ...</td>\n",
       "      <td>Please indicate the degree to which you agree ...</td>\n",
       "      <td>Please indicate the degree to which you agree ...</td>\n",
       "      <td>If at any point you wanted to leave the conver...</td>\n",
       "      <td>Thank you for participating in our study. If y...</td>\n",
       "      <td>Score</td>\n",
       "      <td>PHQ-8 Patient Health Questionnaire- 8items</td>\n",
       "      <td>id</td>\n",
       "    </tr>\n",
       "    <tr>\n",
       "      <th>1</th>\n",
       "      <td>{\"ImportId\":\"startDate\",\"timeZone\":\"America/De...</td>\n",
       "      <td>{\"ImportId\":\"endDate\",\"timeZone\":\"America/Denv...</td>\n",
       "      <td>{\"ImportId\":\"status\"}</td>\n",
       "      <td>{\"ImportId\":\"progress\"}</td>\n",
       "      <td>{\"ImportId\":\"duration\"}</td>\n",
       "      <td>{\"ImportId\":\"finished\"}</td>\n",
       "      <td>{\"ImportId\":\"recordedDate\",\"timeZone\":\"America...</td>\n",
       "      <td>{\"ImportId\":\"_recordId\"}</td>\n",
       "      <td>{\"ImportId\":\"distributionChannel\"}</td>\n",
       "      <td>{\"ImportId\":\"userLanguage\"}</td>\n",
       "      <td>...</td>\n",
       "      <td>{\"ImportId\":\"QID311_2\"}</td>\n",
       "      <td>{\"ImportId\":\"QID311_3\"}</td>\n",
       "      <td>{\"ImportId\":\"QID311_4\"}</td>\n",
       "      <td>{\"ImportId\":\"QID311_12\"}</td>\n",
       "      <td>{\"ImportId\":\"QID311_13\"}</td>\n",
       "      <td>{\"ImportId\":\"QID321_TEXT\"}</td>\n",
       "      <td>{\"ImportId\":\"QID320_TEXT\"}</td>\n",
       "      <td>{\"ImportId\":\"SC_by0GhYnW8z2dcq1\"}</td>\n",
       "      <td>{\"ImportId\":\"SC_6gkccQmPIhIRJM9\"}</td>\n",
       "      <td>{\"ImportId\":\"id\"}</td>\n",
       "    </tr>\n",
       "    <tr>\n",
       "      <th>2</th>\n",
       "      <td>2020-11-06 00:40:59</td>\n",
       "      <td>2020-11-06 00:45:57</td>\n",
       "      <td>Survey Preview</td>\n",
       "      <td>100</td>\n",
       "      <td>298</td>\n",
       "      <td>True</td>\n",
       "      <td>2020-11-06 00:45:58</td>\n",
       "      <td>R_1rAOxkXtOyiprCR</td>\n",
       "      <td>preview</td>\n",
       "      <td>EN</td>\n",
       "      <td>...</td>\n",
       "      <td>NaN</td>\n",
       "      <td>NaN</td>\n",
       "      <td>NaN</td>\n",
       "      <td>NaN</td>\n",
       "      <td>NaN</td>\n",
       "      <td>NaN</td>\n",
       "      <td>NaN</td>\n",
       "      <td>10</td>\n",
       "      <td>6</td>\n",
       "      <td>NaN</td>\n",
       "    </tr>\n",
       "    <tr>\n",
       "      <th>3</th>\n",
       "      <td>2020-11-06 01:05:24</td>\n",
       "      <td>2020-11-06 01:08:11</td>\n",
       "      <td>Survey Preview</td>\n",
       "      <td>100</td>\n",
       "      <td>167</td>\n",
       "      <td>True</td>\n",
       "      <td>2020-11-06 01:08:13</td>\n",
       "      <td>R_O2mBVurRhoHtoHv</td>\n",
       "      <td>preview</td>\n",
       "      <td>EN</td>\n",
       "      <td>...</td>\n",
       "      <td>NaN</td>\n",
       "      <td>NaN</td>\n",
       "      <td>NaN</td>\n",
       "      <td>NaN</td>\n",
       "      <td>NaN</td>\n",
       "      <td>NaN</td>\n",
       "      <td>NaN</td>\n",
       "      <td>20</td>\n",
       "      <td>17</td>\n",
       "      <td>NaN</td>\n",
       "    </tr>\n",
       "    <tr>\n",
       "      <th>4</th>\n",
       "      <td>2020-12-01 12:15:36</td>\n",
       "      <td>2020-12-01 12:15:36</td>\n",
       "      <td>Survey Test</td>\n",
       "      <td>100</td>\n",
       "      <td>0</td>\n",
       "      <td>True</td>\n",
       "      <td>2020-12-01 12:15:36</td>\n",
       "      <td>R_d1rrLLibNXatf6J</td>\n",
       "      <td>test</td>\n",
       "      <td>NaN</td>\n",
       "      <td>...</td>\n",
       "      <td>NaN</td>\n",
       "      <td>NaN</td>\n",
       "      <td>NaN</td>\n",
       "      <td>NaN</td>\n",
       "      <td>NaN</td>\n",
       "      <td>NaN</td>\n",
       "      <td>NaN</td>\n",
       "      <td>21</td>\n",
       "      <td>15</td>\n",
       "      <td>NaN</td>\n",
       "    </tr>\n",
       "  </tbody>\n",
       "</table>\n",
       "<p>5 rows × 77 columns</p>\n",
       "</div>"
      ],
      "text/plain": [
       "                                           StartDate  \\\n",
       "0                                         Start Date   \n",
       "1  {\"ImportId\":\"startDate\",\"timeZone\":\"America/De...   \n",
       "2                                2020-11-06 00:40:59   \n",
       "3                                2020-11-06 01:05:24   \n",
       "4                                2020-12-01 12:15:36   \n",
       "\n",
       "                                             EndDate                 Status  \\\n",
       "0                                           End Date          Response Type   \n",
       "1  {\"ImportId\":\"endDate\",\"timeZone\":\"America/Denv...  {\"ImportId\":\"status\"}   \n",
       "2                                2020-11-06 00:45:57         Survey Preview   \n",
       "3                                2020-11-06 01:08:11         Survey Preview   \n",
       "4                                2020-12-01 12:15:36            Survey Test   \n",
       "\n",
       "                  Progress    Duration (in seconds)                 Finished  \\\n",
       "0                 Progress    Duration (in seconds)                 Finished   \n",
       "1  {\"ImportId\":\"progress\"}  {\"ImportId\":\"duration\"}  {\"ImportId\":\"finished\"}   \n",
       "2                      100                      298                     True   \n",
       "3                      100                      167                     True   \n",
       "4                      100                        0                     True   \n",
       "\n",
       "                                        RecordedDate  \\\n",
       "0                                      Recorded Date   \n",
       "1  {\"ImportId\":\"recordedDate\",\"timeZone\":\"America...   \n",
       "2                                2020-11-06 00:45:58   \n",
       "3                                2020-11-06 01:08:13   \n",
       "4                                2020-12-01 12:15:36   \n",
       "\n",
       "                 ResponseId                 DistributionChannel  \\\n",
       "0               Response ID                Distribution Channel   \n",
       "1  {\"ImportId\":\"_recordId\"}  {\"ImportId\":\"distributionChannel\"}   \n",
       "2         R_1rAOxkXtOyiprCR                             preview   \n",
       "3         R_O2mBVurRhoHtoHv                             preview   \n",
       "4         R_d1rrLLibNXatf6J                                test   \n",
       "\n",
       "                  UserLanguage  ...  \\\n",
       "0                User Language  ...   \n",
       "1  {\"ImportId\":\"userLanguage\"}  ...   \n",
       "2                           EN  ...   \n",
       "3                           EN  ...   \n",
       "4                          NaN  ...   \n",
       "\n",
       "                                              Q255_2  \\\n",
       "0  Please indicate the degree to which you agree ...   \n",
       "1                            {\"ImportId\":\"QID311_2\"}   \n",
       "2                                                NaN   \n",
       "3                                                NaN   \n",
       "4                                                NaN   \n",
       "\n",
       "                                              Q255_3  \\\n",
       "0  Please indicate the degree to which you agree ...   \n",
       "1                            {\"ImportId\":\"QID311_3\"}   \n",
       "2                                                NaN   \n",
       "3                                                NaN   \n",
       "4                                                NaN   \n",
       "\n",
       "                                              Q255_4  \\\n",
       "0  Please indicate the degree to which you agree ...   \n",
       "1                            {\"ImportId\":\"QID311_4\"}   \n",
       "2                                                NaN   \n",
       "3                                                NaN   \n",
       "4                                                NaN   \n",
       "\n",
       "                                              Q255_5  \\\n",
       "0  Please indicate the degree to which you agree ...   \n",
       "1                           {\"ImportId\":\"QID311_12\"}   \n",
       "2                                                NaN   \n",
       "3                                                NaN   \n",
       "4                                                NaN   \n",
       "\n",
       "                                              Q255_6  \\\n",
       "0  Please indicate the degree to which you agree ...   \n",
       "1                           {\"ImportId\":\"QID311_13\"}   \n",
       "2                                                NaN   \n",
       "3                                                NaN   \n",
       "4                                                NaN   \n",
       "\n",
       "                                                 Q58  \\\n",
       "0  If at any point you wanted to leave the conver...   \n",
       "1                         {\"ImportId\":\"QID321_TEXT\"}   \n",
       "2                                                NaN   \n",
       "3                                                NaN   \n",
       "4                                                NaN   \n",
       "\n",
       "                                                 Q57  \\\n",
       "0  Thank you for participating in our study. If y...   \n",
       "1                         {\"ImportId\":\"QID320_TEXT\"}   \n",
       "2                                                NaN   \n",
       "3                                                NaN   \n",
       "4                                                NaN   \n",
       "\n",
       "                                 SC0  \\\n",
       "0                              Score   \n",
       "1  {\"ImportId\":\"SC_by0GhYnW8z2dcq1\"}   \n",
       "2                                 10   \n",
       "3                                 20   \n",
       "4                                 21   \n",
       "\n",
       "                                          SC2                 id  \n",
       "0  PHQ-8 Patient Health Questionnaire- 8items                 id  \n",
       "1           {\"ImportId\":\"SC_6gkccQmPIhIRJM9\"}  {\"ImportId\":\"id\"}  \n",
       "2                                           6                NaN  \n",
       "3                                          17                NaN  \n",
       "4                                          15                NaN  \n",
       "\n",
       "[5 rows x 77 columns]"
      ]
     },
     "execution_count": 107,
     "metadata": {},
     "output_type": "execute_result"
    }
   ],
   "source": [
    "# load survey data sheet\n",
    "raw_survey_df = pd.read_csv(surveyfilename)\n",
    "survey_question_text_ts = raw_survey_df.loc[0]\n",
    "raw_survey_df[:5]"
   ]
  },
  {
   "cell_type": "code",
   "execution_count": 6,
   "id": "multiple-learning",
   "metadata": {},
   "outputs": [],
   "source": [
    "# load conversation sheets\n",
    "convos = pd.read_excel(workbookname, engine='openpyxl', sheet_name=None)\n",
    "convo_ids = list(convos.keys())"
   ]
  },
  {
   "cell_type": "code",
   "execution_count": 7,
   "id": "moving-humor",
   "metadata": {},
   "outputs": [
    {
     "name": "stdout",
     "output_type": "stream",
     "text": [
      "Example convo ids:  ['9244_22cee091', '50081_a05ac73b', '50321_27d7083e', '38917_bca8e1ae', '46238_3e041c3a']\n"
     ]
    },
    {
     "data": {
      "text/html": [
       "<div>\n",
       "<style scoped>\n",
       "    .dataframe tbody tr th:only-of-type {\n",
       "        vertical-align: middle;\n",
       "    }\n",
       "\n",
       "    .dataframe tbody tr th {\n",
       "        vertical-align: top;\n",
       "    }\n",
       "\n",
       "    .dataframe thead th {\n",
       "        text-align: right;\n",
       "    }\n",
       "</style>\n",
       "<table border=\"1\" class=\"dataframe\">\n",
       "  <thead>\n",
       "    <tr style=\"text-align: right;\">\n",
       "      <th></th>\n",
       "      <th>Flow Index</th>\n",
       "      <th>User Message</th>\n",
       "      <th>Bot Response</th>\n",
       "      <th>helpful</th>\n",
       "      <th>error</th>\n",
       "      <th>why_leave</th>\n",
       "    </tr>\n",
       "  </thead>\n",
       "  <tbody>\n",
       "    <tr>\n",
       "      <th>0</th>\n",
       "      <td>0</td>\n",
       "      <td>START</td>\n",
       "      <td>Hi, it’s great to meet you!</td>\n",
       "      <td>1.0</td>\n",
       "      <td>NaN</td>\n",
       "      <td>na</td>\n",
       "    </tr>\n",
       "    <tr>\n",
       "      <th>1</th>\n",
       "      <td>1</td>\n",
       "      <td>How are you?</td>\n",
       "      <td>How are you doing?</td>\n",
       "      <td>NaN</td>\n",
       "      <td>1.0</td>\n",
       "      <td>na</td>\n",
       "    </tr>\n",
       "    <tr>\n",
       "      <th>2</th>\n",
       "      <td>2</td>\n",
       "      <td>I am alright. Feeling a little down :(</td>\n",
       "      <td>I've heard that many people stay at home more ...</td>\n",
       "      <td>1.0</td>\n",
       "      <td>NaN</td>\n",
       "      <td>na</td>\n",
       "    </tr>\n",
       "    <tr>\n",
       "      <th>3</th>\n",
       "      <td>3</td>\n",
       "      <td>Yes</td>\n",
       "      <td>I see. I've also heard that many people's diet...</td>\n",
       "      <td>1.0</td>\n",
       "      <td>NaN</td>\n",
       "      <td>na</td>\n",
       "    </tr>\n",
       "    <tr>\n",
       "      <th>4</th>\n",
       "      <td>4</td>\n",
       "      <td>I don't think so</td>\n",
       "      <td>Ok. These last few months have been really dif...</td>\n",
       "      <td>1.0</td>\n",
       "      <td>NaN</td>\n",
       "      <td>na</td>\n",
       "    </tr>\n",
       "  </tbody>\n",
       "</table>\n",
       "</div>"
      ],
      "text/plain": [
       "   Flow Index                             User Message  \\\n",
       "0           0                                    START   \n",
       "1           1                            How are you?    \n",
       "2           2  I am alright. Feeling a little down :(    \n",
       "3           3                                      Yes   \n",
       "4           4                         I don't think so   \n",
       "\n",
       "                                        Bot Response  helpful  error why_leave  \n",
       "0                        Hi, it’s great to meet you!      1.0    NaN        na  \n",
       "1                                 How are you doing?      NaN    1.0        na  \n",
       "2  I've heard that many people stay at home more ...      1.0    NaN        na  \n",
       "3  I see. I've also heard that many people's diet...      1.0    NaN        na  \n",
       "4  Ok. These last few months have been really dif...      1.0    NaN        na  "
      ]
     },
     "execution_count": 7,
     "metadata": {},
     "output_type": "execute_result"
    }
   ],
   "source": [
    "print('Example convo ids: ', convo_ids[:5])\n",
    "convos[convo_ids[10]][:5]"
   ]
  },
  {
   "cell_type": "markdown",
   "id": "facial-platinum",
   "metadata": {},
   "source": [
    "### Calculate statistics on conversations & annotations"
   ]
  },
  {
   "cell_type": "code",
   "execution_count": 8,
   "id": "about-court",
   "metadata": {},
   "outputs": [
    {
     "name": "stdout",
     "output_type": "stream",
     "text": [
      "Admin testing system, omitting:  9244_22cee091\n",
      "Was in pilot, omitting:  50081_a05ac73b\n",
      "Was in pilot, omitting:  50321_27d7083e\n",
      "Was in pilot, omitting:  38917_bca8e1ae\n",
      "Was in pilot, omitting:  46238_3e041c3a\n"
     ]
    }
   ],
   "source": [
    "convo_stats = [] # these are statistics on each participant's converstion \n",
    "# flow_stats = [] # these are statistics on each flow message\n",
    "\n",
    "\n",
    "for cid in convo_ids: \n",
    "    \n",
    "    sona, sid = cid.split('_')\n",
    "    \n",
    "    \n",
    "    if len(sona) != 5:\n",
    "        print('Admin testing system, omitting: ', cid)\n",
    "        # Not a valid SONA (5 digit intiger), likely admin testing sona 9244\n",
    "        continue\n",
    "        \n",
    "    if sona in ['38917', '46238', '50321', '50081']:\n",
    "        print('Was in pilot, omitting: ', cid)\n",
    "        # This was a pilot conversation before we changed the binary \"want to leave\" to multiple choice \"why leave\" question\n",
    "        continue\n",
    "        \n",
    "        \n",
    "    results = cur.execute('select sid, joined_time from session_meta_data where pid==\"%s\"' % sona).fetchall()\n",
    "    [convo_joined_time,] = [int(x[1]) for x in results if x[0].startswith(sid)]\n",
    "    \n",
    "    convo = convos[cid]\n",
    "    num_messages = convo.shape[0]\n",
    "    \n",
    "    # Counts of likes, errors, leave\n",
    "    num_helpful = convo['helpful'].sum()\n",
    "    num_error = convo['error'].sum()\n",
    "    num_leave = (convo['why_leave'].dropna() != 'na').sum()\n",
    "    \n",
    "    # When first leave? \n",
    "    want_to_leave = convo['why_leave'].dropna() != 'na'\n",
    "    first_leave = convo['why_leave'].dropna()[want_to_leave].index.min()\n",
    "    \n",
    "    # Why first leave?\n",
    "    why_first_leave = convo['why_leave'][first_leave] if first_leave is not np.nan else 'complete_convo'\n",
    "    \n",
    "    # Error to leave? How long after the first error did they want to leave?\n",
    "    first_error = convo['error'].dropna().index.min()\n",
    "    error_to_leave = first_leave - first_error\n",
    "    error_before_leave = first_error < first_leave\n",
    "    error_is_leave = first_error == first_leave\n",
    "    \n",
    "    # participant engagement: how much participant wrote in conversation\n",
    "    message_tok = [len(tokenizer(x)) if x is not np.nan else 0 for x in convo['User Message'][1:].values]\n",
    "    avg_message_tok = np.mean(message_tok)\n",
    "    tot_message_tok = np.sum(message_tok)\n",
    "    \n",
    "    \n",
    "    \n",
    "    convo_stats.append([cid, sona, sid, datetime.datetime.fromtimestamp(convo_joined_time), \n",
    "                        num_messages, num_helpful, num_error, num_leave, \n",
    "                        first_leave, why_first_leave, first_error, error_to_leave, \n",
    "                        error_before_leave, error_is_leave,\n",
    "                        avg_message_tok, tot_message_tok])\n",
    "    \n",
    "#     What kinds of messages did people dis/like\n",
    "#     Is the effect of errors worse for people who are more depressed/anxious?\n",
    "#     Was the bot more likely to make mistakes on certain messages?\n",
    "#     Were mistakes more common for certain message types? Were certain types more helpful?\n",
    "#     Did certain people like/prefer certain types of messages? E.g., depressed people prefer chatting to tips\n",
    "#     Length of response to flow message\n",
    "\n",
    "convo_stats_df = pd.DataFrame(convo_stats, columns = ['cid', 'sona', 'session_id', 'convo_joined_datetime', \n",
    "                                                      'num_messages', 'num_helpful', 'num_error', 'num_leave', \n",
    "                                                     'first_leave', 'why_first_leave', 'first_error', 'error_to_leave', \n",
    "                                                      'error_before_leave', 'error_is_leave', \n",
    "                                                      'avg_message_tok', 'tot_message_tok'])"
   ]
  },
  {
   "cell_type": "code",
   "execution_count": null,
   "id": "covered-involvement",
   "metadata": {},
   "outputs": [],
   "source": []
  },
  {
   "cell_type": "code",
   "execution_count": null,
   "id": "limited-thomson",
   "metadata": {},
   "outputs": [],
   "source": []
  },
  {
   "cell_type": "code",
   "execution_count": 9,
   "id": "married-brain",
   "metadata": {},
   "outputs": [
    {
     "name": "stdout",
     "output_type": "stream",
     "text": [
      "DF dimensions:  (133, 16)\n"
     ]
    },
    {
     "data": {
      "text/html": [
       "<div>\n",
       "<style scoped>\n",
       "    .dataframe tbody tr th:only-of-type {\n",
       "        vertical-align: middle;\n",
       "    }\n",
       "\n",
       "    .dataframe tbody tr th {\n",
       "        vertical-align: top;\n",
       "    }\n",
       "\n",
       "    .dataframe thead th {\n",
       "        text-align: right;\n",
       "    }\n",
       "</style>\n",
       "<table border=\"1\" class=\"dataframe\">\n",
       "  <thead>\n",
       "    <tr style=\"text-align: right;\">\n",
       "      <th></th>\n",
       "      <th>cid</th>\n",
       "      <th>sona</th>\n",
       "      <th>session_id</th>\n",
       "      <th>convo_joined_datetime</th>\n",
       "      <th>num_messages</th>\n",
       "      <th>num_helpful</th>\n",
       "      <th>num_error</th>\n",
       "      <th>num_leave</th>\n",
       "      <th>first_leave</th>\n",
       "      <th>why_first_leave</th>\n",
       "      <th>first_error</th>\n",
       "      <th>error_to_leave</th>\n",
       "      <th>error_before_leave</th>\n",
       "      <th>error_is_leave</th>\n",
       "      <th>avg_message_tok</th>\n",
       "      <th>tot_message_tok</th>\n",
       "    </tr>\n",
       "  </thead>\n",
       "  <tbody>\n",
       "    <tr>\n",
       "      <th>0</th>\n",
       "      <td>50375_82125de0</td>\n",
       "      <td>50375</td>\n",
       "      <td>82125de0</td>\n",
       "      <td>2021-01-27 09:44:29</td>\n",
       "      <td>29</td>\n",
       "      <td>0.0</td>\n",
       "      <td>4.0</td>\n",
       "      <td>0</td>\n",
       "      <td>NaN</td>\n",
       "      <td>complete_convo</td>\n",
       "      <td>13.0</td>\n",
       "      <td>NaN</td>\n",
       "      <td>False</td>\n",
       "      <td>False</td>\n",
       "      <td>3.928571</td>\n",
       "      <td>110</td>\n",
       "    </tr>\n",
       "    <tr>\n",
       "      <th>1</th>\n",
       "      <td>45644_643fcbec</td>\n",
       "      <td>45644</td>\n",
       "      <td>643fcbec</td>\n",
       "      <td>2021-01-27 10:16:35</td>\n",
       "      <td>19</td>\n",
       "      <td>5.0</td>\n",
       "      <td>2.0</td>\n",
       "      <td>1</td>\n",
       "      <td>18.0</td>\n",
       "      <td>nofeedback</td>\n",
       "      <td>10.0</td>\n",
       "      <td>8.0</td>\n",
       "      <td>True</td>\n",
       "      <td>False</td>\n",
       "      <td>22.611111</td>\n",
       "      <td>407</td>\n",
       "    </tr>\n",
       "    <tr>\n",
       "      <th>2</th>\n",
       "      <td>41923_87b34bf0</td>\n",
       "      <td>41923</td>\n",
       "      <td>87b34bf0</td>\n",
       "      <td>2021-01-27 10:47:48</td>\n",
       "      <td>29</td>\n",
       "      <td>16.0</td>\n",
       "      <td>10.0</td>\n",
       "      <td>6</td>\n",
       "      <td>4.0</td>\n",
       "      <td>nolisten</td>\n",
       "      <td>4.0</td>\n",
       "      <td>0.0</td>\n",
       "      <td>False</td>\n",
       "      <td>True</td>\n",
       "      <td>3.428571</td>\n",
       "      <td>96</td>\n",
       "    </tr>\n",
       "    <tr>\n",
       "      <th>3</th>\n",
       "      <td>51190_8d0fe287</td>\n",
       "      <td>51190</td>\n",
       "      <td>8d0fe287</td>\n",
       "      <td>2021-01-27 11:07:59</td>\n",
       "      <td>29</td>\n",
       "      <td>28.0</td>\n",
       "      <td>1.0</td>\n",
       "      <td>6</td>\n",
       "      <td>2.0</td>\n",
       "      <td>nocare</td>\n",
       "      <td>7.0</td>\n",
       "      <td>-5.0</td>\n",
       "      <td>False</td>\n",
       "      <td>False</td>\n",
       "      <td>8.035714</td>\n",
       "      <td>225</td>\n",
       "    </tr>\n",
       "    <tr>\n",
       "      <th>4</th>\n",
       "      <td>44598_937c2601</td>\n",
       "      <td>44598</td>\n",
       "      <td>937c2601</td>\n",
       "      <td>2021-01-27 11:06:01</td>\n",
       "      <td>28</td>\n",
       "      <td>5.0</td>\n",
       "      <td>0.0</td>\n",
       "      <td>0</td>\n",
       "      <td>NaN</td>\n",
       "      <td>complete_convo</td>\n",
       "      <td>NaN</td>\n",
       "      <td>NaN</td>\n",
       "      <td>False</td>\n",
       "      <td>False</td>\n",
       "      <td>13.148148</td>\n",
       "      <td>355</td>\n",
       "    </tr>\n",
       "  </tbody>\n",
       "</table>\n",
       "</div>"
      ],
      "text/plain": [
       "              cid   sona session_id convo_joined_datetime  num_messages  \\\n",
       "0  50375_82125de0  50375   82125de0   2021-01-27 09:44:29            29   \n",
       "1  45644_643fcbec  45644   643fcbec   2021-01-27 10:16:35            19   \n",
       "2  41923_87b34bf0  41923   87b34bf0   2021-01-27 10:47:48            29   \n",
       "3  51190_8d0fe287  51190   8d0fe287   2021-01-27 11:07:59            29   \n",
       "4  44598_937c2601  44598   937c2601   2021-01-27 11:06:01            28   \n",
       "\n",
       "   num_helpful  num_error  num_leave  first_leave why_first_leave  \\\n",
       "0          0.0        4.0          0          NaN  complete_convo   \n",
       "1          5.0        2.0          1         18.0      nofeedback   \n",
       "2         16.0       10.0          6          4.0        nolisten   \n",
       "3         28.0        1.0          6          2.0          nocare   \n",
       "4          5.0        0.0          0          NaN  complete_convo   \n",
       "\n",
       "   first_error  error_to_leave  error_before_leave  error_is_leave  \\\n",
       "0         13.0             NaN               False           False   \n",
       "1         10.0             8.0                True           False   \n",
       "2          4.0             0.0               False            True   \n",
       "3          7.0            -5.0               False           False   \n",
       "4          NaN             NaN               False           False   \n",
       "\n",
       "   avg_message_tok  tot_message_tok  \n",
       "0         3.928571              110  \n",
       "1        22.611111              407  \n",
       "2         3.428571               96  \n",
       "3         8.035714              225  \n",
       "4        13.148148              355  "
      ]
     },
     "execution_count": 9,
     "metadata": {},
     "output_type": "execute_result"
    }
   ],
   "source": [
    "print('DF dimensions: ', convo_stats_df.shape)\n",
    "convo_stats_df[:5]"
   ]
  },
  {
   "cell_type": "code",
   "execution_count": null,
   "id": "cloudy-university",
   "metadata": {},
   "outputs": [],
   "source": []
  },
  {
   "cell_type": "code",
   "execution_count": null,
   "id": "documentary-syntax",
   "metadata": {},
   "outputs": [],
   "source": []
  },
  {
   "cell_type": "markdown",
   "id": "trying-kingdom",
   "metadata": {},
   "source": [
    "### Add a datetime column to survey responses so response time can be compared with conversation time"
   ]
  },
  {
   "cell_type": "code",
   "execution_count": 108,
   "id": "emotional-latvia",
   "metadata": {},
   "outputs": [],
   "source": [
    "for i in raw_survey_df.index:\n",
    "    try:\n",
    "        raw_survey_df.loc[i, 'EndDate_datetime'] = datetime.datetime.strptime(raw_survey_df.loc[i, 'EndDate'], '%Y-%m-%d %H:%M:%S')\n",
    "    except:\n",
    "        pass"
   ]
  },
  {
   "cell_type": "code",
   "execution_count": null,
   "id": "outer-poster",
   "metadata": {},
   "outputs": [],
   "source": []
  },
  {
   "cell_type": "code",
   "execution_count": null,
   "id": "graduate-robin",
   "metadata": {},
   "outputs": [],
   "source": []
  },
  {
   "cell_type": "code",
   "execution_count": null,
   "id": "italic-premises",
   "metadata": {},
   "outputs": [],
   "source": []
  },
  {
   "cell_type": "code",
   "execution_count": null,
   "id": "organic-plaintiff",
   "metadata": {},
   "outputs": [],
   "source": []
  },
  {
   "cell_type": "code",
   "execution_count": null,
   "id": "contemporary-divorce",
   "metadata": {},
   "outputs": [],
   "source": []
  },
  {
   "cell_type": "code",
   "execution_count": null,
   "id": "pretty-control",
   "metadata": {},
   "outputs": [],
   "source": []
  },
  {
   "cell_type": "code",
   "execution_count": null,
   "id": "verbal-railway",
   "metadata": {},
   "outputs": [],
   "source": []
  },
  {
   "cell_type": "markdown",
   "id": "herbal-supply",
   "metadata": {},
   "source": [
    "### Drop duplicate annotated conversations and survey responses for participants\n",
    "Make sure to end up with one annotated convo and one survey response for each participant\n",
    "\n",
    "if two conversations are annotated, drop the one that happened later in time\n",
    "\n",
    "\n",
    "if two survey responses:\n",
    "\n",
    "    * if one is 'Finished', drop the other\n",
    "    * else take the one closer in time to the conversation"
   ]
  },
  {
   "cell_type": "code",
   "execution_count": 120,
   "id": "joint-psychology",
   "metadata": {},
   "outputs": [
    {
     "name": "stdout",
     "output_type": "stream",
     "text": [
      "Start convo dim: (132, 16)\n",
      "Start survey dim: (215, 78)\n",
      "Dropping extra survey response for sona 44692 because less close in time\n",
      "Dropping extra survey response for sona 51389 because unfinished\n",
      "Dropping extra survey response for sona 50638 because less close in time\n",
      "Dropping extra survey response for sona 48240 because unfinished\n",
      "Dropping extra survey response for sona 45566 because unfinished\n",
      "Dropping extra survey response for sona 48169 because unfinished\n",
      "Dropping extra survey response for sona 46440 because unfinished\n",
      "Dropping extra survey response for sona 48039 because less close in time\n",
      "Dropping extra survey response for sona 47727 because unfinished\n",
      "Dropping extra survey response for sona 44600 because unfinished\n",
      "Dropping extra survey response for sona 50082 because unfinished\n",
      "Dropping extra survey response for sona 45849 because unfinished\n",
      "Dropping extra survey response for sona 49423 because less close in time\n",
      "Dropping extra survey response for sona 41060 because unfinished\n",
      "Dropping extra survey response for sona 50058 because unfinished\n",
      "End convo dim: (132, 16)\n",
      "End survey dim: (198, 78)\n"
     ]
    }
   ],
   "source": [
    "survey_df = raw_survey_df.copy()\n",
    "\n",
    "print('Start convo dim:', convo_stats_df.shape)\n",
    "print('Start survey dim:', survey_df.shape)\n",
    "\n",
    "for sona in convo_stats_df['sona'].unique():\n",
    "    s = survey_df[survey_df['id'] == sona]\n",
    "    a = convo_stats_df[convo_stats_df['sona'] == sona]\n",
    "    \n",
    "    # If more than two annotated conversations, drop later one\n",
    "    if a.shape[0] > 1: \n",
    "        # index of last conversation: \n",
    "        dropidx = a['convo_joined_datetime'].idxmax()\n",
    "        \n",
    "        print('Dropping extra annoated convo for sona ', sona)\n",
    "        convo_stats_df.drop(index=dropidx, inplace=True)\n",
    "        \n",
    "        \n",
    "    if s.shape[0] > 1: \n",
    "        if sum(s['Finished'] == 'True') == 1:\n",
    "            \n",
    "            # index of the non-finished survey response\n",
    "            dropidx = s[s['Finished'] == 'False'].index\n",
    "            reason = 'unfinished'\n",
    "        else:\n",
    "            \n",
    "            # list of indices for survey rows for participant\n",
    "            idxs = s.index\n",
    "\n",
    "            # calculate absolute time distance of survey response to conversation\n",
    "            time_dists = [abs((x - a['convo_joined_datetime'].values[0]).total_seconds()) for x in s['EndDate_datetime']]\n",
    "            \n",
    "            # rows to drop from survey dataframe are those NOT closest to annotations\n",
    "            dropidx = idxs[time_dists != np.min(time_dists)]\n",
    "            reason = 'less close in time'\n",
    "        \n",
    "        print('Dropping extra survey response for sona %s because %s' % (sona, reason))\n",
    "        survey_df.drop(index=dropidx, inplace=True)\n",
    "        \n",
    "print('End convo dim:', convo_stats_df.shape)\n",
    "print('End survey dim:', survey_df.shape)\n"
   ]
  },
  {
   "cell_type": "code",
   "execution_count": null,
   "id": "casual-letters",
   "metadata": {},
   "outputs": [],
   "source": []
  },
  {
   "cell_type": "code",
   "execution_count": null,
   "id": "persistent-africa",
   "metadata": {},
   "outputs": [],
   "source": []
  },
  {
   "cell_type": "code",
   "execution_count": null,
   "id": "hollow-privilege",
   "metadata": {},
   "outputs": [],
   "source": []
  },
  {
   "cell_type": "markdown",
   "id": "unnecessary-mediterranean",
   "metadata": {},
   "source": [
    "## Aggregate survey and conversation records"
   ]
  },
  {
   "cell_type": "code",
   "execution_count": 121,
   "id": "isolated-composer",
   "metadata": {},
   "outputs": [
    {
     "data": {
      "text/plain": [
       "(132, 94)"
      ]
     },
     "execution_count": 121,
     "metadata": {},
     "output_type": "execute_result"
    }
   ],
   "source": [
    "participant_df = survey_df.merge(convo_stats_df, left_on='id', right_on='sona', how='right')\n",
    "participant_df.shape"
   ]
  },
  {
   "cell_type": "code",
   "execution_count": null,
   "id": "processed-grenada",
   "metadata": {},
   "outputs": [],
   "source": [
    "# Uncomment to print column names & question text, if desired:\n",
    "\n",
    "# for i in participant_df.columns:\n",
    "#     if i in survey_question_text_ts.index:\n",
    "#         print('%s\\t%s' % (i, survey_question_text_ts[i].replace('\\n', ' ')))\n",
    "#     else:\n",
    "#         print('%s\\t%s' % (i,i))"
   ]
  },
  {
   "cell_type": "markdown",
   "id": "neither-appraisal",
   "metadata": {},
   "source": [
    "### Rename columns and convert types"
   ]
  },
  {
   "cell_type": "code",
   "execution_count": 127,
   "id": "sustained-chest",
   "metadata": {},
   "outputs": [],
   "source": [
    "# 'Q249_1': mood before chat?\n",
    "# 'Q55_1': mood after chat?\n",
    "\n",
    "for col in ['SC0', 'SC2', 'Q249_1','Q55_1']:\n",
    "    participant_df[col] = participant_df[col].astype(float)\n",
    "    \n",
    "    \n",
    "participant_df['phq8'] = participant_df['SC2']\n",
    "\n",
    "participant_df['mood_before'] = participant_df['Q249_1']\n",
    "participant_df['mood_after'] = participant_df['Q55_1']\n",
    "participant_df['mood_change'] = participant_df['mood_after'] - participant_df['mood_before']\n",
    "\n",
    "\n",
    "# Q242: Have you ever chatted with a chatbot?\n",
    "# Q251: Have you ever used a chatbot for mental health?\n",
    "# Q219: how hard to imagine mood?\n",
    "participant_df['chatbot_experience'] = participant_df['Q242'] == 'Yes'\n",
    "participant_df['chatbot_mh_experience'] = participant_df['Q251'] == 'Yes'\n",
    "participant_df['cant_imagine_mood'] = participant_df['Q219'] == 'Not at all'\n"
   ]
  },
  {
   "cell_type": "markdown",
   "id": "musical-refrigerator",
   "metadata": {},
   "source": [
    "# Preliminary exploratory plots"
   ]
  },
  {
   "cell_type": "markdown",
   "id": "infectious-professional",
   "metadata": {},
   "source": [
    "## How bad were people feeling to start off?"
   ]
  },
  {
   "cell_type": "code",
   "execution_count": 86,
   "id": "crude-station",
   "metadata": {},
   "outputs": [
    {
     "data": {
      "image/png": "[encoded data removed]",
      "text/plain": [
       "<Figure size 432x288 with 1 Axes>"
      ]
     },
     "metadata": {
      "needs_background": "light"
     },
     "output_type": "display_data"
    }
   ],
   "source": [
    "plt.hist(participant_df['phq8'], bins=np.arange(-.5,30.5), alpha=.3, color='b', label='phq8 at start')\n",
    "plt.ylabel('Number of participants', fontsize=14)\n",
    "plt.xlabel('PHQ-8', fontsize=14)\n",
    "plt.show()"
   ]
  },
  {
   "cell_type": "markdown",
   "id": "unusual-saver",
   "metadata": {},
   "source": [
    "## How did mood score before chat relate to phq8?"
   ]
  },
  {
   "cell_type": "code",
   "execution_count": 87,
   "id": "particular-closer",
   "metadata": {},
   "outputs": [
    {
     "data": {
      "image/png": "[encoded data removed]",
      "text/plain": [
       "<Figure size 432x288 with 1 Axes>"
      ]
     },
     "metadata": {
      "needs_background": "light"
     },
     "output_type": "display_data"
    }
   ],
   "source": [
    "plt.plot(participant_df['phq8'], participant_df['mood_before'], 'o', alpha=.3, markersize=14)\n",
    "plt.ylabel('Mood score at start (9 being best)', fontsize=14)\n",
    "plt.xlabel('PHQ-8', fontsize=14)\n",
    "plt.show()"
   ]
  },
  {
   "cell_type": "code",
   "execution_count": null,
   "id": "delayed-concept",
   "metadata": {},
   "outputs": [],
   "source": []
  },
  {
   "cell_type": "markdown",
   "id": "acceptable-depth",
   "metadata": {},
   "source": [
    "## Did chatting with the bot provide any relief?"
   ]
  },
  {
   "cell_type": "code",
   "execution_count": 84,
   "id": "registered-delight",
   "metadata": {},
   "outputs": [
    {
     "data": {
      "image/png": "[encoded data removed]",
      "text/plain": [
       "<Figure size 432x288 with 1 Axes>"
      ]
     },
     "metadata": {
      "needs_background": "light"
     },
     "output_type": "display_data"
    }
   ],
   "source": [
    "\n",
    "plt.hist(participant_df['mood_before'], bins=np.arange(-.5,10.5), alpha=.3, color='b', label='mood before chat')\n",
    "plt.hist(participant_df['mood_after'], bins=np.arange(-.5,10.5), alpha=.3, color='y', label='mood after chat')\n",
    "plt.ylabel('Number of participants', fontsize=14)\n",
    "plt.xlabel('Mood score (9 being best)', fontsize=14)\n",
    "plt.legend()\n",
    "plt.show()\n",
    "\n"
   ]
  },
  {
   "cell_type": "code",
   "execution_count": 73,
   "id": "incident-millennium",
   "metadata": {},
   "outputs": [
    {
     "data": {
      "image/png": "[encoded data removed]",
      "text/plain": [
       "<Figure size 432x288 with 1 Axes>"
      ]
     },
     "metadata": {
      "needs_background": "light"
     },
     "output_type": "display_data"
    }
   ],
   "source": [
    "plt.hist(participant_df['mood_change'], bins=np.arange(-5.5,5.5), label='mood change')\n",
    "plt.plot([0,0],[0,40], 'k', linewidth=3, label='no change')\n",
    "plt.ylabel('Number of participants', fontsize=14)\n",
    "plt.xlabel('Mood after chat - mood before (positive is improvement)', fontsize=14)\n",
    "plt.title('%s of %s participants report improved' % (sum(participant_df['mood_change']>0), participant_df.shape[0]))\n",
    "plt.legend()\n",
    "plt.show()\n"
   ]
  },
  {
   "cell_type": "code",
   "execution_count": 85,
   "id": "honest-morocco",
   "metadata": {},
   "outputs": [
    {
     "data": {
      "image/png": "[encoded data removed]",
      "text/plain": [
       "<Figure size 432x288 with 1 Axes>"
      ]
     },
     "metadata": {
      "needs_background": "light"
     },
     "output_type": "display_data"
    }
   ],
   "source": [
    "improved = sum(participant_df['mood_change'] > 0)\n",
    "unchanged = sum(participant_df['mood_change'] == 0)\n",
    "worsened = sum(participant_df['mood_change'] < 0)\n",
    "\n",
    "temp = [worsened, unchanged, improved]\n",
    "temp_ticks = ['worsened\\nmood score', 'unchanged\\nmood score', 'improved\\nmood score']\n",
    "\n",
    "plt.bar(range(len(temp)), temp)\n",
    "plt.xticks(range(len(temp)), temp_ticks, fontsize=14)\n",
    "plt.title('Total participants: %s' % participant_df.shape[0], fontsize=14)\n",
    "plt.show()"
   ]
  },
  {
   "cell_type": "markdown",
   "id": "judicial-insight",
   "metadata": {},
   "source": [
    "### Was change in mood related to mood at start?"
   ]
  },
  {
   "cell_type": "code",
   "execution_count": 90,
   "id": "warming-adventure",
   "metadata": {},
   "outputs": [
    {
     "data": {
      "image/png": "[encoded data removed]",
      "text/plain": [
       "<Figure size 432x288 with 1 Axes>"
      ]
     },
     "metadata": {
      "needs_background": "light"
     },
     "output_type": "display_data"
    }
   ],
   "source": [
    "plt.plot(participant_df['mood_before'], participant_df['mood_change'], 'o', alpha=.3, markersize=14)\n",
    "plt.plot([0, 9],[0, 0], 'k', linewidth=3, label='no change')\n",
    "plt.ylabel('Mood change', fontsize=14)\n",
    "plt.xlabel('Mood at start (9 being best)', fontsize=14)\n",
    "plt.legend()\n",
    "plt.show()"
   ]
  },
  {
   "cell_type": "markdown",
   "id": "turkish-drunk",
   "metadata": {},
   "source": [
    "## Do people who are more familiar with chatbots experience more relief/benefit?\n",
    "\n",
    "* Q242: Have you ever chatted with a chatbot? ['Yes' 'No' \"I don't know\" nan] 'chatbot_experience'\n",
    "* Q251: Have you ever used a chatbot for mental health? ['Yes' 'No' \"I don't know\" nan] 'chatbot_mh_experience'\n",
    "* Q219: how hard to imagine mood? ['Yes' 'No' \"I don't know\" nan] 'cant_imagine_mood'"
   ]
  },
  {
   "cell_type": "code",
   "execution_count": 137,
   "id": "processed-place",
   "metadata": {},
   "outputs": [
    {
     "name": "stdout",
     "output_type": "stream",
     "text": [
      "Used chatbot for mental health:  6\n",
      "Cannot imagine a bad mood:  2\n"
     ]
    }
   ],
   "source": [
    "print('Used chatbot for mental health: ', sum(participant_df['chatbot_mh_experience']))\n",
    "print('Cannot imagine a bad mood: ', sum(participant_df['cant_imagine_mood']))"
   ]
  },
  {
   "cell_type": "code",
   "execution_count": 138,
   "id": "unusual-nudist",
   "metadata": {},
   "outputs": [
    {
     "data": {
      "image/png": "[encoded data removed]",
      "text/plain": [
       "<Figure size 432x288 with 1 Axes>"
      ]
     },
     "metadata": {
      "needs_background": "light"
     },
     "output_type": "display_data"
    }
   ],
   "source": [
    "ind = participant_df['chatbot_experience'] \n",
    "plt.hist(participant_df[ind]['mood_change'], bins=np.arange(-5.5,5.5), alpha=.3, color='b', label='has chatbot experience')\n",
    "plt.hist(participant_df[~ind]['mood_change'], bins=np.arange(-5.5,5.5), alpha=.3, color='y', label='no chatbot experience')\n",
    "plt.ylabel('Number of participants', fontsize=14)\n",
    "plt.xlabel('Change in mood score (positive improvement)', fontsize=14)\n",
    "plt.legend()\n",
    "plt.show()"
   ]
  },
  {
   "cell_type": "markdown",
   "id": "derived-identity",
   "metadata": {},
   "source": [
    "## How long were participant messages?"
   ]
  },
  {
   "cell_type": "code",
   "execution_count": 184,
   "id": "pediatric-hypothetical",
   "metadata": {},
   "outputs": [
    {
     "data": {
      "image/png": "[encoded data removed]",
      "text/plain": [
       "<Figure size 432x288 with 1 Axes>"
      ]
     },
     "metadata": {
      "needs_background": "light"
     },
     "output_type": "display_data"
    }
   ],
   "source": [
    "plt.hist(participant_df['avg_message_tok'], bins=np.arange(-.5, 25.5), alpha=.3, color='b')\n",
    "plt.ylabel('Number of participants', fontsize=14)\n",
    "plt.xlabel('Participant message length (average tokens in a message)', fontsize=14)\n",
    "# plt.legend()\n",
    "plt.show()"
   ]
  },
  {
   "cell_type": "markdown",
   "id": "confused-schema",
   "metadata": {},
   "source": [
    "## Annotation overview"
   ]
  },
  {
   "cell_type": "code",
   "execution_count": 185,
   "id": "intended-salem",
   "metadata": {},
   "outputs": [
    {
     "data": {
      "image/png": "[encoded data removed]",
      "text/plain": [
       "<Figure size 432x288 with 1 Axes>"
      ]
     },
     "metadata": {
      "needs_background": "light"
     },
     "output_type": "display_data"
    }
   ],
   "source": [
    "for col in ['num_helpful', 'num_error', 'num_leave']:\n",
    "    plt.hist(participant_df[col], bins=np.arange(-.5,30.5), alpha=.3, label=col)\n",
    "\n",
    "plt.ylabel('Number of participants', fontsize=14)\n",
    "plt.xlabel('Message number in flow', fontsize=14)\n",
    "plt.legend()\n",
    "plt.show()"
   ]
  },
  {
   "cell_type": "markdown",
   "id": "coral-extent",
   "metadata": {},
   "source": [
    "## When did people first want to leave the conversation"
   ]
  },
  {
   "cell_type": "code",
   "execution_count": 179,
   "id": "developing-ordinary",
   "metadata": {},
   "outputs": [
    {
     "data": {
      "image/png": "[encoded data removed]",
      "text/plain": [
       "<Figure size 432x288 with 1 Axes>"
      ]
     },
     "metadata": {
      "needs_background": "light"
     },
     "output_type": "display_data"
    }
   ],
   "source": [
    "plt.hist(participant_df['first_leave'], bins=np.arange(-.5,30.5), alpha=.3, label='wanted to leave')\n",
    "plt.bar([30], [np.isnan(participant_df['first_leave'].values).sum()], alpha=.3, color='k', label='no desire to leave')\n",
    "plt.ylabel('Number of participants', fontsize=14)\n",
    "plt.xlabel('Message number in flow', fontsize=14)\n",
    "plt.legend()\n",
    "plt.show()"
   ]
  },
  {
   "cell_type": "code",
   "execution_count": 178,
   "id": "extraordinary-drunk",
   "metadata": {},
   "outputs": [
    {
     "name": "stdout",
     "output_type": "stream",
     "text": [
      "Leave within first 5 messages: 37 of 132 (28.03%)\n",
      "Never leave: 48 of 132 (36.36%)\n"
     ]
    }
   ],
   "source": [
    "a = sum(participant_df['first_leave'] <= 5)\n",
    "b = participant_df.shape[0]\n",
    "c = sum(np.isnan(participant_df['first_leave']))\n",
    "print('Leave within first 5 messages: %s of %s (%.2f%%)' % (a, b, 100.*float(a)/b))\n",
    "print('Never leave: %s of %s (%.2f%%)' % (c, b, 100.*float(c)/b))"
   ]
  },
  {
   "cell_type": "markdown",
   "id": "intensive-fifth",
   "metadata": {},
   "source": [
    "## How long after the first error did individuals want to leave?"
   ]
  },
  {
   "cell_type": "code",
   "execution_count": 155,
   "id": "different-passenger",
   "metadata": {},
   "outputs": [
    {
     "data": {
      "image/png": "[encoded data removed]",
      "text/plain": [
       "<Figure size 432x288 with 1 Axes>"
      ]
     },
     "metadata": {
      "needs_background": "light"
     },
     "output_type": "display_data"
    }
   ],
   "source": [
    "plt.plot(participant_df['first_error'], participant_df['first_leave'], 'o', alpha=.3)\n",
    "plt.ylabel('Message # of first leave', fontsize=14)\n",
    "plt.xlabel('Message # of first error', fontsize=14)\n",
    "plt.show()"
   ]
  },
  {
   "cell_type": "markdown",
   "id": "thrown-czech",
   "metadata": {},
   "source": [
    "## What is the first reason to leave?"
   ]
  },
  {
   "cell_type": "code",
   "execution_count": 170,
   "id": "meaning-questionnaire",
   "metadata": {},
   "outputs": [
    {
     "data": {
      "image/png": "[encoded data removed]",
      "text/plain": [
       "<Figure size 432x288 with 1 Axes>"
      ]
     },
     "metadata": {
      "needs_background": "light"
     },
     "output_type": "display_data"
    }
   ],
   "source": [
    "from collections import Counter\n",
    "c = Counter(participant_df['why_first_leave'])\n",
    "reasons = [x[0] for x in c.items()]\n",
    "counts = [x[1] for x in c.items()]\n",
    "\n",
    "plt.bar(range(len(reasons)), counts)\n",
    "plt.xticks(range(len(reasons)), reasons, fontsize=14, rotation=90)\n",
    "plt.title('Count of first reason to leave', fontsize=14)\n",
    "plt.show()\n"
   ]
  },
  {
   "cell_type": "markdown",
   "id": "approximate-movement",
   "metadata": {},
   "source": [
    "## Do people who write more report mood improvement?"
   ]
  },
  {
   "cell_type": "code",
   "execution_count": 171,
   "id": "simplified-somalia",
   "metadata": {},
   "outputs": [
    {
     "data": {
      "image/png": "[encoded data removed]",
      "text/plain": [
       "<Figure size 432x288 with 1 Axes>"
      ]
     },
     "metadata": {
      "needs_background": "light"
     },
     "output_type": "display_data"
    }
   ],
   "source": [
    "plt.plot(participant_df['tot_message_tok'], participant_df['mood_change'], 'o', alpha=.3)\n",
    "plt.ylabel('Mood change (positive is improvement)', fontsize=14)\n",
    "plt.xlabel('Number to tokens written by user', fontsize=14)\n",
    "plt.show()"
   ]
  },
  {
   "cell_type": "code",
   "execution_count": null,
   "id": "caroline-george",
   "metadata": {},
   "outputs": [],
   "source": []
  },
  {
   "cell_type": "code",
   "execution_count": null,
   "id": "systematic-museum",
   "metadata": {},
   "outputs": [],
   "source": []
  },
  {
   "cell_type": "code",
   "execution_count": null,
   "id": "bottom-bridal",
   "metadata": {},
   "outputs": [],
   "source": []
  },
  {
   "cell_type": "code",
   "execution_count": null,
   "id": "alternate-black",
   "metadata": {},
   "outputs": [],
   "source": []
  },
  {
   "cell_type": "code",
   "execution_count": null,
   "id": "mobile-dancing",
   "metadata": {},
   "outputs": [],
   "source": []
  },
  {
   "cell_type": "markdown",
   "id": "genuine-specific",
   "metadata": {},
   "source": [
    "# Write to CSV"
   ]
  },
  {
   "cell_type": "code",
   "execution_count": 186,
   "id": "fixed-forty",
   "metadata": {},
   "outputs": [],
   "source": [
    "participant_df.to_csv('data/participant_data_18feb2021.csv')"
   ]
  },
  {
   "cell_type": "code",
   "execution_count": null,
   "id": "union-draft",
   "metadata": {},
   "outputs": [],
   "source": []
  }
 ],
 "metadata": {
  "kernelspec": {
   "display_name": "Python 3",
   "language": "python",
   "name": "python3"
  },
  "language_info": {
   "codemirror_mode": {
    "name": "ipython",
    "version": 3
   },
   "file_extension": ".py",
   "mimetype": "text/x-python",
   "name": "python",
   "nbconvert_exporter": "python",
   "pygments_lexer": "ipython3",
   "version": "3.8.5"
  }
 },
 "nbformat": 4,
 "nbformat_minor": 5
}
